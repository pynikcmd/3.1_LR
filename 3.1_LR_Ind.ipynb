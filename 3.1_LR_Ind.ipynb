{
 "cells": [
  {
   "cell_type": "markdown",
   "id": "b3a4411c",
   "metadata": {},
   "source": [
    "# Алгоритм Дейкстры\n"
   ]
  },
  {
   "cell_type": "markdown",
   "id": "5b8e7893",
   "metadata": {},
   "source": [
    "Алгоритм Дейсктры находит минимальные веса, которые могут быть достигнуты при переходе стартовой вершины v во все остальные вершины."
   ]
  },
  {
   "cell_type": "code",
   "execution_count": 4,
   "id": "e1b15f9a",
   "metadata": {},
   "outputs": [],
   "source": [
    "matr = ((0, 3, 1, 3, 0, 0),\n",
    "        (3, 0, 4, 0, 0, 0),\n",
    "        (1, 4, 0, 0, 7, 5),\n",
    "        (3, 0, 0, 0, 0, 2),\n",
    "        (0, 0, 7, 0, 0, 4),\n",
    "        (0, 0, 5, 2, 4, 0))"
   ]
  },
  {
   "cell_type": "code",
   "execution_count": 21,
   "id": "8262b571",
   "metadata": {},
   "outputs": [],
   "source": [
    "import math\n",
    "\n",
    "def smej_v(v, matr):\n",
    "    for i, weight in enumerate(matr[v]):\n",
    "        if weight > 0:\n",
    "            yield i"
   ]
  },
  {
   "cell_type": "markdown",
   "id": "c6e860fb",
   "metadata": {},
   "source": [
    "Функция-генератор smej_v возвращает смежные вершины для данной вершины v. В цикле перебирается строка матрицы смежности. И если вес больше 0, то возвращается номер веришны. А в цикле ниже, где используется данная фукнция, перебирается данный генератор. Поэтому используется ключове слово yield, которое используется примерно как return — отличие в том, что функция вернёт генератор. При повторном вызове такой функции выполнение продолжается с оператора yield, на которомее работа была прервана."
   ]
  },
  {
   "cell_type": "code",
   "execution_count": 22,
   "id": "335114cf",
   "metadata": {},
   "outputs": [],
   "source": [
    "def arg_min(l, s):\n",
    "    amin = -1\n",
    "    m = max(l) # максимальное значение в l ()\n",
    "    for i, t in enumerate(l):\n",
    "        if t < m and i not in s:\n",
    "            m = t\n",
    "            amin = i\n",
    "    return amin"
   ]
  },
  {
   "cell_type": "markdown",
   "id": "3e9c2766",
   "metadata": {},
   "source": [
    "Функция возвращает врешину с минимальным весом. Перебираются значения в строке, где было найдено максимальное значение l. И находим минимальное значение (t < m) для тех вершин, которые не расмотрели (i not in s)."
   ]
  },
  {
   "cell_type": "code",
   "execution_count": 23,
   "id": "fa061c8b",
   "metadata": {},
   "outputs": [
    {
     "name": "stdout",
     "output_type": "stream",
     "text": [
      "[0, 3, 1, 3, 8, 5]\n"
     ]
    }
   ],
   "source": [
    "n = len(matr)     # число вершин в графе\n",
    "l = [math.inf]*n  # последняя строка в таблице\n",
    "v = 0             # стартовая вершина\n",
    "s = {v}           # просмотренные вершины\n",
    "l[v] = 0          # нулевой вес стартовой врешины\n",
    "\n",
    "while v != -1:  # цикл, пока не просмотрим все вершины\n",
    "    for j in smej_v(v, matr):   # перебираем все связанные вершины с вершиной v\n",
    "        if j not in s:  # если вершина не просмотрена\n",
    "            w = l[v] + matr[v][j]\n",
    "            if w < l[j]:\n",
    "                l[j] = w\n",
    "    v = arg_min(l, s)  # выбираем следующий узел с наименьшим весом\n",
    "    if v > 0:          # выбрана очередная вершина\n",
    "        s.add(v)       # добавляем новую вершину в рассмотренные\n",
    "print(l)"
   ]
  }
 ],
 "metadata": {
  "kernelspec": {
   "display_name": "Python 3 (ipykernel)",
   "language": "python",
   "name": "python3"
  },
  "language_info": {
   "codemirror_mode": {
    "name": "ipython",
    "version": 3
   },
   "file_extension": ".py",
   "mimetype": "text/x-python",
   "name": "python",
   "nbconvert_exporter": "python",
   "pygments_lexer": "ipython3",
   "version": "3.9.13"
  }
 },
 "nbformat": 4,
 "nbformat_minor": 5
}

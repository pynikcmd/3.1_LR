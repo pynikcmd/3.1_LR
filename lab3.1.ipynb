{
 "cells": [
  {
   "cell_type": "markdown",
   "metadata": {},
   "source": [
    "# Лабораторная работа 3.1"
   ]
  },
  {
   "cell_type": "markdown",
   "metadata": {},
   "source": [
    "## Счастливый билетик\n",
    "\n",
    "![](http://f2.mylove.ru/UNiHT7dRJ4.jpg)\n",
    "\n",
    "Билет считается счастливым, если выполнено следующее условие: сумма первых трёх цифр номера равна сумме последних трёх цифр.\n",
    "\n",
    "**Задание:**\n",
    "\n",
    "1) Определите число `ticket_number` — шестизначный номер билета;\n",
    "\n",
    "2) Напишите код, который по шестизначному номеру `ticket_number` билетика проверяет, является ли он счастливым;\n",
    "\n",
    "3) Если номер счастливый, выведите строку `Yes`, иначе — `No`.\n",
    "\n",
    "---\n",
    "\n",
    "**Пример 1:**\n",
    "\n",
    "*Input:* 123456\n",
    "\n",
    "*Output:* No\n",
    "\n",
    "\n",
    "**Пример 2:**\n",
    "\n",
    "*Input:* 123042\n",
    "\n",
    "*Output:* Yes"
   ]
  },
  {
   "cell_type": "code",
   "execution_count": 4,
   "metadata": {},
   "outputs": [
    {
     "name": "stdout",
     "output_type": "stream",
     "text": [
      "ticket number of 6 digits: 45645644\n"
     ]
    }
   ],
   "source": [
    "ticket_number = int(input(\"ticket number of 6 digits: \"))"
   ]
  },
  {
   "cell_type": "code",
   "execution_count": 6,
   "metadata": {},
   "outputs": [
    {
     "name": "stdout",
     "output_type": "stream",
     "text": [
      "incorrect number of digits\n"
     ]
    }
   ],
   "source": [
    "sum1 = ticket_number // 100000 + ticket_number // 10000 % 10 + ticket_number // 1000 % 10\n",
    "sum2 = ticket_number % 1000 // 100 + ticket_number % 100 // 10 + ticket_number % 10\n",
    "if (ticket_number // 10000000) < 1:\n",
    "    if sum1 == sum2:\n",
    "        print(\"Yes\")\n",
    "    else:\n",
    "        print(\"No\")\n",
    "else:\n",
    "    print(\"Incorrect number of digits\")"
   ]
  },
  {
   "cell_type": "markdown",
   "metadata": {},
   "source": [
    "## Пароль\n",
    "\n",
    "![](http://forum.ixbt.com/post.cgi?id=attach:77:14138:1341:1)\n",
    "\n",
    "Пусть пароль может содержать только латинские буквы, знаки препинания и цифры.\n",
    "\n",
    "Пароль считается надёжным, если удовлетворяет следующим условиям:\n",
    "- содержит буквы в разных регистрах;\n",
    "- содержит цифры;\n",
    "- содержит не менее `4` уникальных символов;\n",
    "- не содержит ваше имя латинницей, записанное буквами любых регистров (anna, iVan, ...).\n",
    "\n",
    "Иначе пароль считается слабым.\n",
    "\n",
    "**Задание:**\n",
    "\n",
    "1) Определите строку `password` — придуманный вами пароль;\n",
    "\n",
    "2) Напишите код, который по паролю `password` проверяет, является ли он надёжным;\n",
    "\n",
    "3) Если пароль надёжный, выведите строку `strong`, иначе — `weak`.\n",
    "\n",
    "\n",
    "---\n",
    "\n",
    "Пусть имя пользоватея -- Андрей.\n",
    "\n",
    "**Пример 1:**\n",
    "\n",
    "*Input:* Aandrei123\n",
    "\n",
    "*Output:* weak\n",
    "\n",
    "\n",
    "**Пример 2:**\n",
    "\n",
    "*Input:* an12dRei\n",
    "\n",
    "*Output:* strong"
   ]
  },
  {
   "cell_type": "code",
   "execution_count": 15,
   "metadata": {},
   "outputs": [
    {
     "name": "stdout",
     "output_type": "stream",
     "text": [
      "Enter password: an12dRei\n",
      "Enter name: andrei\n"
     ]
    }
   ],
   "source": [
    "password = input(\"Enter password: \")\n",
    "name = input(\"Enter name: \")"
   ]
  },
  {
   "cell_type": "code",
   "execution_count": 16,
   "metadata": {},
   "outputs": [
    {
     "name": "stdout",
     "output_type": "stream",
     "text": [
      "strong\n"
     ]
    }
   ],
   "source": [
    "if (password == password.upper() or password == password.lower()\n",
    "    or password.isalpha() or len(set(password)) < 4 \n",
    "    or name.lower() in password.lower()):\n",
    "  print(\"weak\")\n",
    "else:\n",
    "  print(\"strong\")"
   ]
  },
  {
   "cell_type": "markdown",
   "metadata": {},
   "source": [
    "## Числа Фибоначчи\n",
    "Как известно, [числа Фибоначчи](https://ru.wikipedia.org/wiki/%D0%A7%D0%B8%D1%81%D0%BB%D0%B0_%D0%A4%D0%B8%D0%B1%D0%BE%D0%BD%D0%B0%D1%87%D1%87%D0%B8) — это последовательность чисел, каждое из которых равно сумме двух предыдущих (первые два числа равны $1$):\n",
    "$$\n",
    "    1, 1, 2, 3, 5, 8, 13, \\ldots\n",
    "$$\n",
    "\n",
    "**Задание:**\n",
    "\n",
    "1) Определите число `amount` — количество чисел Фибоначчи, которые надо вывести;\n",
    "\n",
    "2) Напишите код, который выводит первые `amount` чисел Фибоначчи.\n",
    "\n",
    "---\n",
    "\n",
    "**Пример 1:**\n",
    "\n",
    "*Input:* 3\n",
    "\n",
    "*Output:* 1 1 2\n",
    "\n",
    "\n",
    "**Пример 2:**\n",
    "\n",
    "*Input:* 10\n",
    "\n",
    "*Output:* 1 1 2 3 5 8 13 21 34 55\n"
   ]
  },
  {
   "cell_type": "code",
   "execution_count": 27,
   "metadata": {},
   "outputs": [
    {
     "name": "stdout",
     "output_type": "stream",
     "text": [
      "Enter amount: 6\n"
     ]
    }
   ],
   "source": [
    "amount = int(input(\"Enter amount: \"))"
   ]
  },
  {
   "cell_type": "code",
   "execution_count": 28,
   "metadata": {},
   "outputs": [
    {
     "name": "stdout",
     "output_type": "stream",
     "text": [
      "1\n",
      "1\n",
      "2\n",
      "3\n",
      "5\n",
      "8\n"
     ]
    }
   ],
   "source": [
    "fib1 = 1\n",
    "fib2 = 1\n",
    "print(fib1)\n",
    "print(fib2)\n",
    "i = 0\n",
    "\n",
    "while i < amount - 2:\n",
    "    fib_sum = fib1 + fib2\n",
    "    fib1 = fib2\n",
    "    fib2 = fib_sum\n",
    "    i = i + 1\n",
    "    print(fib2)"
   ]
  },
  {
   "cell_type": "markdown",
   "metadata": {},
   "source": [
    "## Время исследований\n",
    "\n",
    "![](https://2.bp.blogspot.com/-VOT5x12UqPY/WSh53tQ94HI/AAAAAAAAAMY/-nlcz28_Fj4UzJjbn4bBINKCnzwag1W4QCLcB/s1600/my-pic-widget.jpg)\n",
    "\n",
    "На сайте https://www.kaggle.com/ выберите любой набор данных в формате CSV и проведите для него маленькое исследование: загрузите данные из набора с использованием стандартного модуля `csv`, посмотрите средние значения и стандартные отклонения двух выбранных числовых атрибутов, найдите [методом наименьших квадратов](https://ru.wikipedia.org/wiki/%D0%9C%D0%B5%D1%82%D0%BE%D0%B4_%D0%BD%D0%B0%D0%B8%D0%BC%D0%B5%D0%BD%D1%8C%D1%88%D0%B8%D1%85_%D0%BA%D0%B2%D0%B0%D0%B4%D1%80%D0%B0%D1%82%D0%BE%D0%B2) уравнение линейной зависимости, связывающей один числовой атрибут с другим. Для оценки заданной зависимости найдите [коэффициент парной корреляции](https://ru.wikipedia.org/wiki/%D0%9A%D0%BE%D1%80%D1%80%D0%B5%D0%BB%D1%8F%D1%86%D0%B8%D1%8F), сделайте соответствующие выводы.\n",
    "\n",
    "**Результаты надо обязательно прокомментировать и пояснить!**\n",
    "\n",
    "---\n",
    "\n",
    "**Пример 1:**\n",
    "\n",
    "Пусть таблица `bikes.csv` содержит данные по арендам велосипедов за $2$ года:\n",
    "- `datetime`: дата и время аренды\n",
    "- `season`: время года\n",
    "- `temp`: температура воздуха по Цельсию\n",
    "- `windspeed`: скорость ветра \n",
    "- `registered`: число аренд\n",
    "\n",
    "Одно из направлений исследования могло бы заключаться в проверке зависимости суммарного числа аренд от температуры воздуха."
   ]
  },
  {
   "cell_type": "markdown",
   "metadata": {},
   "source": [
    "*в такой ячейке (режим Markdown) можно писать текст*"
   ]
  },
  {
   "cell_type": "code",
   "execution_count": 7,
   "metadata": {},
   "outputs": [],
   "source": [
    "import csv\n",
    "from math import sqrt\n",
    "\n",
    "\n",
    "with open('data_food.csv', 'r', newline='') as csvfile:\n",
    "    data = csv.reader(csvfile, delimiter=',')\n",
    "    salary = []\n",
    "    weight = []\n",
    "    for row in data:\n",
    "        if row[7] == \"Male\":\n",
    "            weight.append(float(row[3]))\n",
    "            salary.append(float(row[6]))"
   ]
  },
  {
   "cell_type": "code",
   "execution_count": 10,
   "metadata": {},
   "outputs": [
    {
     "name": "stdout",
     "output_type": "stream",
     "text": [
      "Среднее значение веса мужчин: 74.4965\n",
      "Среднее значение заработаной платы мужчин: 45649.9397\n"
     ]
    }
   ],
   "source": [
    "sr_weight = sum(weight) / len(weight)\n",
    "sr_salary = sum(salary) / len(salary)\n",
    "print(f\"Среднее значение веса мужчин: {sr_weight:.4f}\")\n",
    "print(f\"Среднее значение заработаной платы мужчин: {sr_salary:.4f}\")"
   ]
  },
  {
   "cell_type": "code",
   "execution_count": 11,
   "metadata": {},
   "outputs": [
    {
     "name": "stdout",
     "output_type": "stream",
     "text": [
      "Стандартное отклонение коэффициента веса мужчин: 17.5647\n",
      "Стандартное отклонение заработаной платы мужчин: 56383.8126\n"
     ]
    }
   ],
   "source": [
    "weight_otk = sqrt(sum((elem-sr_weight)**2 for elem in weight) / len(weight))\n",
    "salary_otk = sqrt(sum((elem-sr_salary)**2 for elem in salary) / len(salary))\n",
    "print(\"Стандартное отклонение коэффициента веса мужчин: \"\n",
    "     f\"{weight_otk:.4f}\")\n",
    "print(\"Стандартное отклонение заработаной платы мужчин: \"\n",
    "     f\"{salary_otk:.4f}\")"
   ]
  },
  {
   "cell_type": "code",
   "execution_count": 12,
   "metadata": {},
   "outputs": [
    {
     "name": "stdout",
     "output_type": "stream",
     "text": [
      "Уравнение линейной зависимости: y = 727.534138541161x + -8548.83285092099\n",
      "Значения функции на кривой методом наименьших квадратов: \n",
      "44561.159262583766\n",
      "42378.55684696028\n",
      "44197.392193313186\n",
      "46016.22753966609\n",
      "46016.22753966609\n",
      "61294.44444903047\n",
      "43615.36488248026\n",
      "42378.55684696028\n",
      "38740.88615425448\n",
      "54019.10306361886\n",
      "41651.02270841912\n",
      "39104.653223525056\n",
      "49653.898232371896\n",
      "38886.392981962716\n",
      "56929.2396177835\n",
      "27827.874076137065\n",
      "56201.705479242344\n",
      "20116.012207600754\n",
      "49653.898232371896\n",
      "60566.91031048931\n",
      "34957.70863384044\n",
      "31465.54476884287\n",
      "42378.55684696028\n",
      "32193.078907384028\n",
      "51836.50064799537\n",
      "51108.966509454214\n",
      "59111.84203340699\n",
      "44197.392193313186\n",
      "48198.82995528957\n",
      "45652.460470395505\n",
      "42524.06367466852\n",
      "45070.433159562584\n",
      "49653.898232371896\n",
      "33648.147184466354\n",
      "41287.25563914854\n",
      "56929.2396177835\n",
      "54019.10306361886\n",
      "24408.4636249936\n",
      "60930.677379759894\n",
      "47471.29581674841\n",
      "52564.03478653654\n",
      "31465.54476884287\n",
      "60930.677379759894\n",
      "51108.966509454214\n",
      "30738.01063030171\n",
      "32193.078907384028\n",
      "72934.99066568905\n",
      "47107.52874747783\n",
      "48198.82995528957\n",
      "54237.36330518121\n",
      "24190.203383431257\n",
      "38886.392981962716\n",
      "29719.46283634408\n",
      "46016.22753966609\n",
      "42378.55684696028\n",
      "43324.35122706379\n",
      "60024.169843137606\n",
      "60566.91031048931\n",
      "46016.22753966609\n",
      "46379.99460893667\n",
      "49653.898232371896\n",
      "38013.35201571332\n",
      "38740.88615425448\n",
      "42378.55684696028\n",
      "42378.55684696028\n",
      "26954.833109887666\n",
      "110039.23173128825\n",
      "35103.21546154867\n",
      "41651.02270841912\n",
      "42378.55684696028\n",
      "54019.10306361886\n"
     ]
    }
   ],
   "source": [
    "sum_elem = 0\n",
    "sum_square = 0\n",
    "for index, elem in enumerate(weight):\n",
    "    sum_elem += elem * salary[index]\n",
    "    sum_square += elem**2\n",
    "a = (len(weight) * sum_elem - sum(weight) * sum(salary))/(len(weight) * sum_square - sum(weight)**2)\n",
    "b = sr_salary - sr_weight * a\n",
    "func_elem = []\n",
    "for elem in weight:\n",
    "    func_elem.append(a * elem + b)\n",
    "print(f\"Уравнение линейной зависимости: y = {a}x + {b}\")\n",
    "print(\"Значения функции на кривой методом наименьших квадратов: \")\n",
    "for val in func_elem:\n",
    "    print(val)"
   ]
  }
 ],
 "metadata": {
  "anaconda-cloud": {},
  "kernelspec": {
   "display_name": "Python 3 (ipykernel)",
   "language": "python",
   "name": "python3"
  },
  "language_info": {
   "codemirror_mode": {
    "name": "ipython",
    "version": 3
   },
   "file_extension": ".py",
   "mimetype": "text/x-python",
   "name": "python",
   "nbconvert_exporter": "python",
   "pygments_lexer": "ipython3",
   "version": "3.9.13"
  }
 },
 "nbformat": 4,
 "nbformat_minor": 1
}
